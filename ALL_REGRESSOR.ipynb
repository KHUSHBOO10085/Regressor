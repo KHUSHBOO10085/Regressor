{
 "cells": [
  {
   "cell_type": "code",
   "execution_count": 1,
   "id": "1b2ffc1c",
   "metadata": {},
   "outputs": [],
   "source": [
    "import numpy as np\n",
    "import pandas as pd\n",
    "import warnings\n",
    "warnings.filterwarnings('ignore')"
   ]
  },
  {
   "cell_type": "code",
   "execution_count": 2,
   "id": "6ee930fc",
   "metadata": {},
   "outputs": [
    {
     "data": {
      "text/html": [
       "<div>\n",
       "<style scoped>\n",
       "    .dataframe tbody tr th:only-of-type {\n",
       "        vertical-align: middle;\n",
       "    }\n",
       "\n",
       "    .dataframe tbody tr th {\n",
       "        vertical-align: top;\n",
       "    }\n",
       "\n",
       "    .dataframe thead th {\n",
       "        text-align: right;\n",
       "    }\n",
       "</style>\n",
       "<table border=\"1\" class=\"dataframe\">\n",
       "  <thead>\n",
       "    <tr style=\"text-align: right;\">\n",
       "      <th></th>\n",
       "      <th>LungCap(cc)</th>\n",
       "      <th>Age( years)</th>\n",
       "      <th>Height(inches)</th>\n",
       "      <th>Smoke</th>\n",
       "      <th>Gender</th>\n",
       "      <th>Caesarean</th>\n",
       "    </tr>\n",
       "  </thead>\n",
       "  <tbody>\n",
       "    <tr>\n",
       "      <th>0</th>\n",
       "      <td>6.475</td>\n",
       "      <td>6</td>\n",
       "      <td>62.1</td>\n",
       "      <td>no</td>\n",
       "      <td>male</td>\n",
       "      <td>no</td>\n",
       "    </tr>\n",
       "    <tr>\n",
       "      <th>1</th>\n",
       "      <td>10.125</td>\n",
       "      <td>18</td>\n",
       "      <td>74.7</td>\n",
       "      <td>yes</td>\n",
       "      <td>female</td>\n",
       "      <td>no</td>\n",
       "    </tr>\n",
       "    <tr>\n",
       "      <th>2</th>\n",
       "      <td>9.550</td>\n",
       "      <td>16</td>\n",
       "      <td>69.7</td>\n",
       "      <td>no</td>\n",
       "      <td>female</td>\n",
       "      <td>yes</td>\n",
       "    </tr>\n",
       "    <tr>\n",
       "      <th>3</th>\n",
       "      <td>11.125</td>\n",
       "      <td>14</td>\n",
       "      <td>71.0</td>\n",
       "      <td>no</td>\n",
       "      <td>male</td>\n",
       "      <td>no</td>\n",
       "    </tr>\n",
       "    <tr>\n",
       "      <th>4</th>\n",
       "      <td>4.800</td>\n",
       "      <td>5</td>\n",
       "      <td>56.9</td>\n",
       "      <td>no</td>\n",
       "      <td>male</td>\n",
       "      <td>no</td>\n",
       "    </tr>\n",
       "    <tr>\n",
       "      <th>...</th>\n",
       "      <td>...</td>\n",
       "      <td>...</td>\n",
       "      <td>...</td>\n",
       "      <td>...</td>\n",
       "      <td>...</td>\n",
       "      <td>...</td>\n",
       "    </tr>\n",
       "    <tr>\n",
       "      <th>720</th>\n",
       "      <td>5.725</td>\n",
       "      <td>9</td>\n",
       "      <td>56.0</td>\n",
       "      <td>no</td>\n",
       "      <td>female</td>\n",
       "      <td>no</td>\n",
       "    </tr>\n",
       "    <tr>\n",
       "      <th>721</th>\n",
       "      <td>9.050</td>\n",
       "      <td>18</td>\n",
       "      <td>72.0</td>\n",
       "      <td>yes</td>\n",
       "      <td>male</td>\n",
       "      <td>yes</td>\n",
       "    </tr>\n",
       "    <tr>\n",
       "      <th>722</th>\n",
       "      <td>3.850</td>\n",
       "      <td>11</td>\n",
       "      <td>60.5</td>\n",
       "      <td>yes</td>\n",
       "      <td>female</td>\n",
       "      <td>no</td>\n",
       "    </tr>\n",
       "    <tr>\n",
       "      <th>723</th>\n",
       "      <td>9.825</td>\n",
       "      <td>15</td>\n",
       "      <td>64.9</td>\n",
       "      <td>no</td>\n",
       "      <td>female</td>\n",
       "      <td>no</td>\n",
       "    </tr>\n",
       "    <tr>\n",
       "      <th>724</th>\n",
       "      <td>7.100</td>\n",
       "      <td>10</td>\n",
       "      <td>67.7</td>\n",
       "      <td>no</td>\n",
       "      <td>male</td>\n",
       "      <td>no</td>\n",
       "    </tr>\n",
       "  </tbody>\n",
       "</table>\n",
       "<p>725 rows × 6 columns</p>\n",
       "</div>"
      ],
      "text/plain": [
       "     LungCap(cc)  Age( years)  Height(inches) Smoke  Gender Caesarean\n",
       "0          6.475            6            62.1    no    male        no\n",
       "1         10.125           18            74.7   yes  female        no\n",
       "2          9.550           16            69.7    no  female       yes\n",
       "3         11.125           14            71.0    no    male        no\n",
       "4          4.800            5            56.9    no    male        no\n",
       "..           ...          ...             ...   ...     ...       ...\n",
       "720        5.725            9            56.0    no  female        no\n",
       "721        9.050           18            72.0   yes    male       yes\n",
       "722        3.850           11            60.5   yes  female        no\n",
       "723        9.825           15            64.9    no  female        no\n",
       "724        7.100           10            67.7    no    male        no\n",
       "\n",
       "[725 rows x 6 columns]"
      ]
     },
     "execution_count": 2,
     "metadata": {},
     "output_type": "execute_result"
    }
   ],
   "source": [
    "data_lung=pd.read_excel(r\"C:\\Users\\khush\\Downloads\\LungCap.xls\")\n",
    "data_lung"
   ]
  },
  {
   "cell_type": "code",
   "execution_count": 3,
   "id": "37bd5d0d",
   "metadata": {},
   "outputs": [
    {
     "data": {
      "text/plain": [
       "LungCap(cc)       0\n",
       "Age( years)       0\n",
       "Height(inches)    0\n",
       "Smoke             0\n",
       "Gender            0\n",
       "Caesarean         0\n",
       "dtype: int64"
      ]
     },
     "execution_count": 3,
     "metadata": {},
     "output_type": "execute_result"
    }
   ],
   "source": [
    "data_lung.isnull().sum()"
   ]
  },
  {
   "cell_type": "code",
   "execution_count": 4,
   "id": "d3f02860",
   "metadata": {},
   "outputs": [
    {
     "data": {
      "text/plain": [
       "LungCap(cc)       float64\n",
       "Age( years)         int64\n",
       "Height(inches)    float64\n",
       "Smoke              object\n",
       "Gender             object\n",
       "Caesarean          object\n",
       "dtype: object"
      ]
     },
     "execution_count": 4,
     "metadata": {},
     "output_type": "execute_result"
    }
   ],
   "source": [
    "data_lung.dtypes"
   ]
  },
  {
   "cell_type": "code",
   "execution_count": 5,
   "id": "6ab37b6f",
   "metadata": {},
   "outputs": [],
   "source": [
    "data_lung=data_lung.rename(columns={\"LungCap(cc)\":\"Lungcap\"})\n",
    "data_lung=data_lung.rename(columns={\"Age(years)\":\"Age\"})"
   ]
  },
  {
   "cell_type": "code",
   "execution_count": 7,
   "id": "5d8a3ccf",
   "metadata": {},
   "outputs": [],
   "source": [
    "from sklearn.preprocessing import LabelEncoder\n",
    "le=LabelEncoder()"
   ]
  },
  {
   "cell_type": "code",
   "execution_count": 8,
   "id": "5416f9b3",
   "metadata": {},
   "outputs": [],
   "source": [
    "data_lung.Smoke=le.fit_transform(data_lung.Smoke)\n",
    "data_lung.Gender=le.fit_transform(data_lung.Gender)\n",
    "data_lung.Caesarean=le.fit_transform(data_lung.Caesarean)"
   ]
  },
  {
   "cell_type": "code",
   "execution_count": 9,
   "id": "724d4e90",
   "metadata": {},
   "outputs": [
    {
     "data": {
      "text/plain": [
       "Lungcap           float64\n",
       "Age( years)         int64\n",
       "Height(inches)    float64\n",
       "Smoke               int32\n",
       "Gender              int32\n",
       "Caesarean           int32\n",
       "dtype: object"
      ]
     },
     "execution_count": 9,
     "metadata": {},
     "output_type": "execute_result"
    }
   ],
   "source": [
    "data_lung.dtypes"
   ]
  },
  {
   "cell_type": "markdown",
   "id": "51cb8d77",
   "metadata": {},
   "source": [
    "# Elastic Net"
   ]
  },
  {
   "cell_type": "code",
   "execution_count": 10,
   "id": "92997dda",
   "metadata": {},
   "outputs": [],
   "source": [
    "x=data_lung.iloc[:,1:]\n",
    "y=data_lung.iloc[:,0]"
   ]
  },
  {
   "cell_type": "code",
   "execution_count": 13,
   "id": "7d442591",
   "metadata": {},
   "outputs": [],
   "source": [
    "from sklearn.model_selection import train_test_split"
   ]
  },
  {
   "cell_type": "code",
   "execution_count": 14,
   "id": "54019d41",
   "metadata": {},
   "outputs": [],
   "source": [
    "x_tr,x_te,y_tr,y_te=train_test_split(x,y,test_size=0.2,random_state=100)"
   ]
  },
  {
   "cell_type": "code",
   "execution_count": 16,
   "id": "d337970e",
   "metadata": {},
   "outputs": [
    {
     "data": {
      "text/plain": [
       "((580, 5), (145, 5), (580,), (145,))"
      ]
     },
     "execution_count": 16,
     "metadata": {},
     "output_type": "execute_result"
    }
   ],
   "source": [
    "x_tr.shape,x_te.shape,y_tr.shape,y_te.shape"
   ]
  },
  {
   "cell_type": "code",
   "execution_count": 28,
   "id": "9f244e48",
   "metadata": {},
   "outputs": [],
   "source": [
    "from sklearn.linear_model import ElasticNet\n",
    "e=ElasticNet()\n",
    "from sklearn import metrics"
   ]
  },
  {
   "cell_type": "code",
   "execution_count": 29,
   "id": "778dfcdc",
   "metadata": {},
   "outputs": [],
   "source": [
    "e.fit(x_tr,y_tr)\n",
    "e_p=e.predict(x_te)"
   ]
  },
  {
   "cell_type": "code",
   "execution_count": 30,
   "id": "d83eb882",
   "metadata": {},
   "outputs": [
    {
     "data": {
      "text/plain": [
       "(0.8479804094850569, 0.8466561970241253, 1.306342912983481)"
      ]
     },
     "execution_count": 30,
     "metadata": {},
     "output_type": "execute_result"
    }
   ],
   "source": [
    "e_r2=e.score(x_tr,y_tr)\n",
    "e_adr2=1-(((1-e_r2)*(580-1))/(580-5-1))\n",
    "e_MSE=metrics.mean_squared_error(y_te,e_p)\n",
    "e_r2,e_adr2,e_MSE"
   ]
  },
  {
   "cell_type": "markdown",
   "id": "43d46ed5",
   "metadata": {},
   "source": [
    "# 2.RF Regressor"
   ]
  },
  {
   "cell_type": "code",
   "execution_count": 31,
   "id": "4f75dcab",
   "metadata": {},
   "outputs": [],
   "source": [
    "from sklearn.ensemble import RandomForestRegressor\n",
    "rfr=RandomForestRegressor()"
   ]
  },
  {
   "cell_type": "code",
   "execution_count": 32,
   "id": "4af36d78",
   "metadata": {},
   "outputs": [],
   "source": [
    "rfr.fit(x_tr,y_tr)\n",
    "rfr_p=rfr.predict(x_te)"
   ]
  },
  {
   "cell_type": "code",
   "execution_count": 33,
   "id": "ddf4788e",
   "metadata": {},
   "outputs": [
    {
     "data": {
      "text/plain": [
       "(0.9712293181177312, 0.9709787024218925, 1.393686966526696)"
      ]
     },
     "execution_count": 33,
     "metadata": {},
     "output_type": "execute_result"
    }
   ],
   "source": [
    "rfr_r2=rfr.score(x_tr,y_tr)\n",
    "rfr_adr2=1-(((1-rfr_r2)*(580-1))/(580-5-1))\n",
    "rfr_MSE=metrics.mean_squared_error(y_te,rfr_p)\n",
    "rfr_r2,rfr_adr2,rfr_MSE"
   ]
  },
  {
   "cell_type": "markdown",
   "id": "63c736ea",
   "metadata": {},
   "source": [
    "# 3DT Regressor"
   ]
  },
  {
   "cell_type": "code",
   "execution_count": 34,
   "id": "dbd089cb",
   "metadata": {},
   "outputs": [],
   "source": [
    "from sklearn.tree import DecisionTreeRegressor\n",
    "dtr=DecisionTreeRegressor()\n",
    "dtr.fit(x_tr,y_tr)\n",
    "dtr_p=dtr.predict(x_te)"
   ]
  },
  {
   "cell_type": "code",
   "execution_count": 35,
   "id": "88dbd85a",
   "metadata": {},
   "outputs": [
    {
     "data": {
      "text/plain": [
       "(0.9950848440692416, 0.9950420291221096, 2.0505186568965517)"
      ]
     },
     "execution_count": 35,
     "metadata": {},
     "output_type": "execute_result"
    }
   ],
   "source": [
    "dtr_r2=dtr.score(x_tr,y_tr)\n",
    "dtr_adr2=1-(((1-dtr_r2)*(580-1))/(580-5-1))\n",
    "dtr_MSE=metrics.mean_squared_error(y_te,dtr_p)\n",
    "dtr_r2,dtr_adr2,dtr_MSE"
   ]
  },
  {
   "cell_type": "markdown",
   "id": "f8064143",
   "metadata": {},
   "source": [
    "# 4.ExtraTree Regressor"
   ]
  },
  {
   "cell_type": "code",
   "execution_count": 37,
   "id": "8bb007c6",
   "metadata": {},
   "outputs": [],
   "source": [
    "from sklearn.ensemble import ExtraTreesRegressor\n",
    "ex=ExtraTreesRegressor()\n",
    "ex.fit(x_tr,y_tr)\n",
    "ex_p=ex.predict(x_te)"
   ]
  },
  {
   "cell_type": "code",
   "execution_count": 38,
   "id": "7bedf974",
   "metadata": {},
   "outputs": [
    {
     "data": {
      "text/plain": [
       "(0.9950848440692416, 0.9950420291221096, 1.4797898064655184)"
      ]
     },
     "execution_count": 38,
     "metadata": {},
     "output_type": "execute_result"
    }
   ],
   "source": [
    "ex_r2=ex.score(x_tr,y_tr)\n",
    "ex_adr2=1-(((1-ex_r2)*(580-1))/(580-5-1))\n",
    "ex_MSE=metrics.mean_squared_error(y_te,ex_p)\n",
    "ex_r2,ex_adr2,ex_MSE"
   ]
  },
  {
   "cell_type": "markdown",
   "id": "8c98bc37",
   "metadata": {},
   "source": [
    "# 5.Ada-Boost Regressor"
   ]
  },
  {
   "cell_type": "code",
   "execution_count": 39,
   "id": "5ac4bada",
   "metadata": {},
   "outputs": [],
   "source": [
    "from sklearn.ensemble import AdaBoostRegressor\n",
    "adr=AdaBoostRegressor()\n",
    "adr.fit(x_tr,y_tr)\n",
    "adr_p=adr.predict(x_te)"
   ]
  },
  {
   "cell_type": "code",
   "execution_count": 40,
   "id": "71e922b1",
   "metadata": {},
   "outputs": [
    {
     "data": {
      "text/plain": [
       "(0.8636171098539513, 0.8624291055843865, 1.4921758567336527)"
      ]
     },
     "execution_count": 40,
     "metadata": {},
     "output_type": "execute_result"
    }
   ],
   "source": [
    "adr_r2=adr.score(x_tr,y_tr)\n",
    "adr_adr2=1-(((1-adr_r2)*(580-1))/(580-5-1))\n",
    "adr_MSE=metrics.mean_squared_error(y_te,adr_p)\n",
    "adr_r2,adr_adr2,adr_MSE"
   ]
  },
  {
   "cell_type": "markdown",
   "id": "09791026",
   "metadata": {},
   "source": [
    "# 6. SVM regressor"
   ]
  },
  {
   "cell_type": "code",
   "execution_count": 42,
   "id": "e614300a",
   "metadata": {},
   "outputs": [],
   "source": [
    "from sklearn.svm import LinearSVR\n",
    "svr=LinearSVR()\n",
    "svr.fit(x_tr,y_tr)\n",
    "svr_p=svr.predict(x_te)"
   ]
  },
  {
   "cell_type": "code",
   "execution_count": 43,
   "id": "c4e78963",
   "metadata": {},
   "outputs": [
    {
     "data": {
      "text/plain": [
       "(0.811690494931599, 0.8100501682323968, 1.6339450257725279)"
      ]
     },
     "execution_count": 43,
     "metadata": {},
     "output_type": "execute_result"
    }
   ],
   "source": [
    "svr_r2=svr.score(x_tr,y_tr)\n",
    "svr_adr2=1-(((1-svr_r2)*(580-1))/(580-5-1))\n",
    "svr_MSE=metrics.mean_squared_error(y_te,svr_p)\n",
    "svr_r2,svr_adr2,svr_MSE"
   ]
  },
  {
   "cell_type": "markdown",
   "id": "6e9c5000",
   "metadata": {},
   "source": [
    "# 7. KNN regressor"
   ]
  },
  {
   "cell_type": "code",
   "execution_count": 44,
   "id": "0da82365",
   "metadata": {},
   "outputs": [],
   "source": [
    "from sklearn.neighbors import KNeighborsRegressor\n",
    "knr=KNeighborsRegressor()\n",
    "knr.fit(x_tr,y_tr)\n",
    "knr_p=knr.predict(x_te)"
   ]
  },
  {
   "cell_type": "code",
   "execution_count": 45,
   "id": "74e2531f",
   "metadata": {},
   "outputs": [
    {
     "data": {
      "text/plain": [
       "(0.8857263887372566, 0.8847309740050028, 1.4845658896551726)"
      ]
     },
     "execution_count": 45,
     "metadata": {},
     "output_type": "execute_result"
    }
   ],
   "source": [
    "knr_r2=knr.score(x_tr,y_tr)\n",
    "knr_adr2=1-(((1-knr_r2)*(580-1))/(580-5-1))\n",
    "knr_MSE=metrics.mean_squared_error(y_te,knr_p)\n",
    "knr_r2,knr_adr2,knr_MSE"
   ]
  },
  {
   "cell_type": "markdown",
   "id": "76ca7225",
   "metadata": {},
   "source": [
    "# 8.XGBoost Regressor"
   ]
  },
  {
   "cell_type": "code",
   "execution_count": 46,
   "id": "93f697cb",
   "metadata": {},
   "outputs": [],
   "source": [
    "from xgboost import XGBRegressor\n",
    "xgbr=XGBRegressor()\n",
    "xgbr.fit(x_tr,y_tr)\n",
    "xgbr_p=xgbr.predict(x_te)"
   ]
  },
  {
   "cell_type": "code",
   "execution_count": 47,
   "id": "222c7f2f",
   "metadata": {},
   "outputs": [
    {
     "data": {
      "text/plain": [
       "(0.985280022896043, 0.9851518000989702, 1.5591205110682318)"
      ]
     },
     "execution_count": 47,
     "metadata": {},
     "output_type": "execute_result"
    }
   ],
   "source": [
    "xgbr_r2=xgbr.score(x_tr,y_tr)\n",
    "xgbr_adr2=1-(((1-xgbr_r2)*(580-1))/(580-5-1))\n",
    "xgbr_MSE=metrics.mean_squared_error(y_te,xgbr_p)\n",
    "xgbr_r2,xgbr_adr2,xgbr_MSE"
   ]
  },
  {
   "cell_type": "markdown",
   "id": "49ca7703",
   "metadata": {},
   "source": [
    "# 9.GradientBoosting Regressor"
   ]
  },
  {
   "cell_type": "code",
   "execution_count": 48,
   "id": "740f43b4",
   "metadata": {},
   "outputs": [],
   "source": [
    "from sklearn.ensemble import GradientBoostingRegressor\n",
    "gbr=GradientBoostingRegressor()\n",
    "gbr.fit(x_tr,y_tr)\n",
    "gbr_p=gbr.predict(x_te)"
   ]
  },
  {
   "cell_type": "code",
   "execution_count": 49,
   "id": "bd1420fc",
   "metadata": {},
   "outputs": [
    {
     "data": {
      "text/plain": [
       "(0.9042340609501283, 0.9033998628747809, 1.374734329888474)"
      ]
     },
     "execution_count": 49,
     "metadata": {},
     "output_type": "execute_result"
    }
   ],
   "source": [
    "gbr_r2=gbr.score(x_tr,y_tr)\n",
    "gbr_adr2=1-(((1-gbr_r2)*(580-1))/(580-5-1))\n",
    "gbr_MSE=metrics.mean_squared_error(y_te,gbr_p)\n",
    "gbr_r2,gbr_adr2,gbr_MSE"
   ]
  },
  {
   "cell_type": "markdown",
   "id": "cad2566d",
   "metadata": {},
   "source": [
    "# 10.  Linear"
   ]
  },
  {
   "cell_type": "code",
   "execution_count": null,
   "id": "3048d81b",
   "metadata": {},
   "outputs": [],
   "source": []
  },
  {
   "cell_type": "code",
   "execution_count": null,
   "id": "9470bee3",
   "metadata": {},
   "outputs": [],
   "source": []
  },
  {
   "cell_type": "markdown",
   "id": "c445ca41",
   "metadata": {},
   "source": [
    "# 11. LASSO"
   ]
  },
  {
   "cell_type": "code",
   "execution_count": null,
   "id": "66f65a9a",
   "metadata": {},
   "outputs": [],
   "source": []
  },
  {
   "cell_type": "code",
   "execution_count": null,
   "id": "a87a5fec",
   "metadata": {},
   "outputs": [],
   "source": []
  },
  {
   "cell_type": "markdown",
   "id": "3886496a",
   "metadata": {},
   "source": [
    "# 12. RIDGE"
   ]
  },
  {
   "cell_type": "code",
   "execution_count": null,
   "id": "d6059e72",
   "metadata": {},
   "outputs": [],
   "source": []
  },
  {
   "cell_type": "code",
   "execution_count": null,
   "id": "dfd6a588",
   "metadata": {},
   "outputs": [],
   "source": []
  }
 ],
 "metadata": {
  "kernelspec": {
   "display_name": "Python 3 (ipykernel)",
   "language": "python",
   "name": "python3"
  },
  "language_info": {
   "codemirror_mode": {
    "name": "ipython",
    "version": 3
   },
   "file_extension": ".py",
   "mimetype": "text/x-python",
   "name": "python",
   "nbconvert_exporter": "python",
   "pygments_lexer": "ipython3",
   "version": "3.9.13"
  }
 },
 "nbformat": 4,
 "nbformat_minor": 5
}
